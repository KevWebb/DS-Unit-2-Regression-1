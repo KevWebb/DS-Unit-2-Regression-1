{
 "cells": [
  {
   "cell_type": "markdown",
   "metadata": {
    "colab_type": "text",
    "id": "RBmA46o0nXWd"
   },
   "source": [
    "_Lambda School Data Science, Unit 2_\n",
    " \n",
    "# Regression 1 Sprint Challenge\n",
    "\n",
    "Your Sprint Challenge has two parts.\n",
    "\n",
    "To demonstrate mastery on each part, do all the required, numbered instructions. \n",
    "\n",
    "To earn a score of \"3\" for the part, also do the stretch goals."
   ]
  },
  {
   "cell_type": "markdown",
   "metadata": {
    "colab_type": "text",
    "id": "Qto4i8q5nXWi"
   },
   "source": [
    "## Part 1. Predict avocado sales 🥑\n",
    "\n",
    "For part 1 of your challenge, you'll use historical data on avocado sales across the nation!\n",
    "\n",
    "Run this code cell to load the dataset. It has weekly sales volume (total number of avocados sold) from January 4, 2015 through March 25, 2018. The data comes directly from retailers' cash registers based on actual retail sales of Hass avocados in multiple US markets."
   ]
  },
  {
   "cell_type": "code",
   "execution_count": 1,
   "metadata": {
    "colab": {
     "base_uri": "https://localhost:8080/",
     "height": 206
    },
    "colab_type": "code",
    "id": "gwWtpYU3nXWl",
    "outputId": "8f93d9ea-d1a6-42c9-a22d-edd10175834f"
   },
   "outputs": [
    {
     "data": {
      "text/html": [
       "<div>\n",
       "<style scoped>\n",
       "    .dataframe tbody tr th:only-of-type {\n",
       "        vertical-align: middle;\n",
       "    }\n",
       "\n",
       "    .dataframe tbody tr th {\n",
       "        vertical-align: top;\n",
       "    }\n",
       "\n",
       "    .dataframe thead th {\n",
       "        text-align: right;\n",
       "    }\n",
       "</style>\n",
       "<table border=\"1\" class=\"dataframe\">\n",
       "  <thead>\n",
       "    <tr style=\"text-align: right;\">\n",
       "      <th></th>\n",
       "      <th>Date</th>\n",
       "      <th>Total Volume</th>\n",
       "    </tr>\n",
       "  </thead>\n",
       "  <tbody>\n",
       "    <tr>\n",
       "      <th>0</th>\n",
       "      <td>2015-01-04</td>\n",
       "      <td>84674288</td>\n",
       "    </tr>\n",
       "    <tr>\n",
       "      <th>1</th>\n",
       "      <td>2015-01-11</td>\n",
       "      <td>78555753</td>\n",
       "    </tr>\n",
       "    <tr>\n",
       "      <th>2</th>\n",
       "      <td>2015-01-18</td>\n",
       "      <td>78388735</td>\n",
       "    </tr>\n",
       "    <tr>\n",
       "      <th>3</th>\n",
       "      <td>2015-01-25</td>\n",
       "      <td>76466226</td>\n",
       "    </tr>\n",
       "    <tr>\n",
       "      <th>4</th>\n",
       "      <td>2015-02-01</td>\n",
       "      <td>119453181</td>\n",
       "    </tr>\n",
       "  </tbody>\n",
       "</table>\n",
       "</div>"
      ],
      "text/plain": [
       "         Date  Total Volume\n",
       "0  2015-01-04      84674288\n",
       "1  2015-01-11      78555753\n",
       "2  2015-01-18      78388735\n",
       "3  2015-01-25      76466226\n",
       "4  2015-02-01     119453181"
      ]
     },
     "execution_count": 1,
     "metadata": {},
     "output_type": "execute_result"
    }
   ],
   "source": [
    "import pandas as pd\n",
    "avocado_url = 'https://drive.google.com/uc?export=download&id=1ljE-LhCA9CCFvSIJYJ1ewX8JmdDpfuhi'\n",
    "df = pd.read_csv(avocado_url)\n",
    "assert df.shape == (169, 2)\n",
    "df.head()"
   ]
  },
  {
   "cell_type": "markdown",
   "metadata": {
    "colab_type": "text",
    "id": "HB79PhX7nXWy"
   },
   "source": [
    "### Required\n",
    "\n",
    "#### Use the Prophet library to:\n",
    "1. Fit a model and forecast avocado sales through March 25, 2020\n",
    "2. Plot the forecast\n",
    "3. Plot the forecast components\n",
    "4. Do time series cross-validation, with these parameters: `horizon='90 days', period='45 days', initial='730 days'`\n",
    "5. Plot the cross-validation Mean Absolute Percentage Error: `metric='mape'`\n",
    "\n",
    "_For Part 1 of this Sprint Challenge, you are **not** required to calculate or plot baselines, or do train/test split._\n",
    "\n",
    "You can be confident you've done it correctly when your plots look similar to these:\n",
    "\n",
    "<img src=\"https://i.imgur.com/PoyVGp7.png\" width=\"400\" align=\"left\">\n",
    "\n"
   ]
  },
  {
   "cell_type": "markdown",
   "metadata": {
    "colab_type": "text",
    "id": "qPb6yl3XnXW0"
   },
   "source": [
    "Fit a model and forecast avocado sales through March 25, 2020"
   ]
  },
  {
   "cell_type": "code",
   "execution_count": 2,
   "metadata": {
    "colab": {
     "base_uri": "https://localhost:8080/",
     "height": 206
    },
    "colab_type": "code",
    "id": "6QMtwuycnXW2",
    "outputId": "6a70cea5-e7fa-4057-a316-e09851fdbd6e"
   },
   "outputs": [
    {
     "data": {
      "text/html": [
       "<div>\n",
       "<style scoped>\n",
       "    .dataframe tbody tr th:only-of-type {\n",
       "        vertical-align: middle;\n",
       "    }\n",
       "\n",
       "    .dataframe tbody tr th {\n",
       "        vertical-align: top;\n",
       "    }\n",
       "\n",
       "    .dataframe thead th {\n",
       "        text-align: right;\n",
       "    }\n",
       "</style>\n",
       "<table border=\"1\" class=\"dataframe\">\n",
       "  <thead>\n",
       "    <tr style=\"text-align: right;\">\n",
       "      <th></th>\n",
       "      <th>Date</th>\n",
       "      <th>Total Volume</th>\n",
       "    </tr>\n",
       "  </thead>\n",
       "  <tbody>\n",
       "    <tr>\n",
       "      <th>0</th>\n",
       "      <td>2015-01-04</td>\n",
       "      <td>84674288</td>\n",
       "    </tr>\n",
       "    <tr>\n",
       "      <th>1</th>\n",
       "      <td>2015-01-11</td>\n",
       "      <td>78555753</td>\n",
       "    </tr>\n",
       "    <tr>\n",
       "      <th>2</th>\n",
       "      <td>2015-01-18</td>\n",
       "      <td>78388735</td>\n",
       "    </tr>\n",
       "    <tr>\n",
       "      <th>3</th>\n",
       "      <td>2015-01-25</td>\n",
       "      <td>76466226</td>\n",
       "    </tr>\n",
       "    <tr>\n",
       "      <th>4</th>\n",
       "      <td>2015-02-01</td>\n",
       "      <td>119453181</td>\n",
       "    </tr>\n",
       "  </tbody>\n",
       "</table>\n",
       "</div>"
      ],
      "text/plain": [
       "         Date  Total Volume\n",
       "0  2015-01-04      84674288\n",
       "1  2015-01-11      78555753\n",
       "2  2015-01-18      78388735\n",
       "3  2015-01-25      76466226\n",
       "4  2015-02-01     119453181"
      ]
     },
     "execution_count": 2,
     "metadata": {},
     "output_type": "execute_result"
    }
   ],
   "source": [
    "df.head()"
   ]
  },
  {
   "cell_type": "code",
   "execution_count": 3,
   "metadata": {
    "colab": {
     "base_uri": "https://localhost:8080/",
     "height": 237
    },
    "colab_type": "code",
    "id": "IB3gxw6_nXW-",
    "outputId": "18e3bb08-5134-47fb-eeef-babd3328ceee"
   },
   "outputs": [
    {
     "data": {
      "text/html": [
       "<div>\n",
       "<style scoped>\n",
       "    .dataframe tbody tr th:only-of-type {\n",
       "        vertical-align: middle;\n",
       "    }\n",
       "\n",
       "    .dataframe tbody tr th {\n",
       "        vertical-align: top;\n",
       "    }\n",
       "\n",
       "    .dataframe thead th {\n",
       "        text-align: right;\n",
       "    }\n",
       "</style>\n",
       "<table border=\"1\" class=\"dataframe\">\n",
       "  <thead>\n",
       "    <tr style=\"text-align: right;\">\n",
       "      <th></th>\n",
       "      <th>Total Volume</th>\n",
       "    </tr>\n",
       "    <tr>\n",
       "      <th>Date</th>\n",
       "      <th></th>\n",
       "    </tr>\n",
       "  </thead>\n",
       "  <tbody>\n",
       "    <tr>\n",
       "      <th>2015-01-04</th>\n",
       "      <td>84674288</td>\n",
       "    </tr>\n",
       "    <tr>\n",
       "      <th>2015-01-11</th>\n",
       "      <td>78555753</td>\n",
       "    </tr>\n",
       "    <tr>\n",
       "      <th>2015-01-18</th>\n",
       "      <td>78388735</td>\n",
       "    </tr>\n",
       "    <tr>\n",
       "      <th>2015-01-25</th>\n",
       "      <td>76466226</td>\n",
       "    </tr>\n",
       "    <tr>\n",
       "      <th>2015-02-01</th>\n",
       "      <td>119453181</td>\n",
       "    </tr>\n",
       "  </tbody>\n",
       "</table>\n",
       "</div>"
      ],
      "text/plain": [
       "            Total Volume\n",
       "Date                    \n",
       "2015-01-04      84674288\n",
       "2015-01-11      78555753\n",
       "2015-01-18      78388735\n",
       "2015-01-25      76466226\n",
       "2015-02-01     119453181"
      ]
     },
     "execution_count": 3,
     "metadata": {},
     "output_type": "execute_result"
    }
   ],
   "source": [
    "#change to datetime\n",
    "df['Date'] = pd.to_datetime(df['Date'])\n",
    "df = df.set_index('Date')\n",
    "df.head()"
   ]
  },
  {
   "cell_type": "code",
   "execution_count": 4,
   "metadata": {
    "colab": {
     "base_uri": "https://localhost:8080/",
     "height": 594
    },
    "colab_type": "code",
    "id": "R7_p8UXynXXD",
    "outputId": "279a41dd-6cb3-477e-8259-34cbfbd7cdbb"
   },
   "outputs": [],
   "source": [
    "df.plot(figsize=(16,9));"
   ]
  },
  {
   "cell_type": "code",
   "execution_count": 5,
   "metadata": {
    "colab": {
     "base_uri": "https://localhost:8080/",
     "height": 613
    },
    "colab_type": "code",
    "id": "eTOW-bkPnXXJ",
    "outputId": "de8fafe3-53b6-442a-8de2-922a96efb458"
   },
   "outputs": [
    {
     "data": {
      "text/plain": [
       "<matplotlib.axes._subplots.AxesSubplot at 0x1f60f0ee2e8>"
      ]
     },
     "execution_count": 5,
     "metadata": {},
     "output_type": "execute_result"
    },
    {
     "data": {
      "image/png": "[encoded data removed]",
      "text/plain": [
       "<Figure size 1152x648 with 1 Axes>"
      ]
     },
     "metadata": {
      "needs_background": "light"
     },
     "output_type": "display_data"
    }
   ],
   "source": [
    "#Establish Mean Baseline. I'll use average method.\n",
    "df['Mean Baseline'] = df['Total Volume'].mean()\n",
    "df.plot(figsize=(16,9))"
   ]
  },
  {
   "cell_type": "code",
   "execution_count": 6,
   "metadata": {
    "colab": {},
    "colab_type": "code",
    "id": "e3oEuO8RnXXQ"
   },
   "outputs": [],
   "source": [
    "#rename columns ds and y in order to use with prophet\n",
    "df = df.reset_index().rename(columns={'Date': 'ds', 'Total Volume': 'y'})"
   ]
  },
  {
   "cell_type": "code",
   "execution_count": 7,
   "metadata": {
    "colab": {
     "base_uri": "https://localhost:8080/",
     "height": 206
    },
    "colab_type": "code",
    "id": "vwB-89Thn0NM",
    "outputId": "860cd13e-10d5-4ee3-d88e-2d413b29da2d"
   },
   "outputs": [
    {
     "data": {
      "text/html": [
       "<div>\n",
       "<style scoped>\n",
       "    .dataframe tbody tr th:only-of-type {\n",
       "        vertical-align: middle;\n",
       "    }\n",
       "\n",
       "    .dataframe tbody tr th {\n",
       "        vertical-align: top;\n",
       "    }\n",
       "\n",
       "    .dataframe thead th {\n",
       "        text-align: right;\n",
       "    }\n",
       "</style>\n",
       "<table border=\"1\" class=\"dataframe\">\n",
       "  <thead>\n",
       "    <tr style=\"text-align: right;\">\n",
       "      <th></th>\n",
       "      <th>ds</th>\n",
       "      <th>y</th>\n",
       "      <th>Mean Baseline</th>\n",
       "    </tr>\n",
       "  </thead>\n",
       "  <tbody>\n",
       "    <tr>\n",
       "      <th>0</th>\n",
       "      <td>2015-01-04</td>\n",
       "      <td>84674288</td>\n",
       "      <td>9.185440e+07</td>\n",
       "    </tr>\n",
       "    <tr>\n",
       "      <th>1</th>\n",
       "      <td>2015-01-11</td>\n",
       "      <td>78555753</td>\n",
       "      <td>9.185440e+07</td>\n",
       "    </tr>\n",
       "    <tr>\n",
       "      <th>2</th>\n",
       "      <td>2015-01-18</td>\n",
       "      <td>78388735</td>\n",
       "      <td>9.185440e+07</td>\n",
       "    </tr>\n",
       "    <tr>\n",
       "      <th>3</th>\n",
       "      <td>2015-01-25</td>\n",
       "      <td>76466226</td>\n",
       "      <td>9.185440e+07</td>\n",
       "    </tr>\n",
       "    <tr>\n",
       "      <th>4</th>\n",
       "      <td>2015-02-01</td>\n",
       "      <td>119453181</td>\n",
       "      <td>9.185440e+07</td>\n",
       "    </tr>\n",
       "  </tbody>\n",
       "</table>\n",
       "</div>"
      ],
      "text/plain": [
       "          ds          y  Mean Baseline\n",
       "0 2015-01-04   84674288   9.185440e+07\n",
       "1 2015-01-11   78555753   9.185440e+07\n",
       "2 2015-01-18   78388735   9.185440e+07\n",
       "3 2015-01-25   76466226   9.185440e+07\n",
       "4 2015-02-01  119453181   9.185440e+07"
      ]
     },
     "execution_count": 7,
     "metadata": {},
     "output_type": "execute_result"
    }
   ],
   "source": [
    "df.head()"
   ]
  },
  {
   "cell_type": "code",
   "execution_count": 8,
   "metadata": {
    "colab": {
     "base_uri": "https://localhost:8080/",
     "height": 73
    },
    "colab_type": "code",
    "id": "ELkC94bUnXXW",
    "outputId": "3893b9f6-d831-40d8-f96c-038f5f052dd6"
   },
   "outputs": [
    {
     "name": "stderr",
     "output_type": "stream",
     "text": [
      "ERROR:fbprophet:Importing plotly failed. Interactive plots will not work.\n",
      "INFO:fbprophet:Disabling weekly seasonality. Run prophet with weekly_seasonality=True to override this.\n",
      "INFO:fbprophet:Disabling daily seasonality. Run prophet with daily_seasonality=True to override this.\n",
      "C:\\Users\\Kevona Jean\\myCODE\\lib\\site-packages\\pystan\\misc.py:399: FutureWarning: Conversion of the second argument of issubdtype from `float` to `np.floating` is deprecated. In future, it will be treated as `np.float64 == np.dtype(float).type`.\n",
      "  elif np.issubdtype(np.asarray(v).dtype, float):\n"
     ]
    },
    {
     "data": {
      "text/plain": [
       "<fbprophet.forecaster.Prophet at 0x1f60f49f550>"
      ]
     },
     "execution_count": 8,
     "metadata": {},
     "output_type": "execute_result"
    }
   ],
   "source": [
    "#import prophet library and fit the model to the dataframe\n",
    "import numpy as np\n",
    "from fbprophet import Prophet\n",
    "m = Prophet()\n",
    "m.fit(df)"
   ]
  },
  {
   "cell_type": "code",
   "execution_count": 9,
   "metadata": {
    "colab": {
     "base_uri": "https://localhost:8080/",
     "height": 206
    },
    "colab_type": "code",
    "id": "jmpzBEJYqkEO",
    "outputId": "b9fb071a-19ef-45eb-e2b6-d3f9a081d0f2"
   },
   "outputs": [
    {
     "data": {
      "text/html": [
       "<div>\n",
       "<style scoped>\n",
       "    .dataframe tbody tr th:only-of-type {\n",
       "        vertical-align: middle;\n",
       "    }\n",
       "\n",
       "    .dataframe tbody tr th {\n",
       "        vertical-align: top;\n",
       "    }\n",
       "\n",
       "    .dataframe thead th {\n",
       "        text-align: right;\n",
       "    }\n",
       "</style>\n",
       "<table border=\"1\" class=\"dataframe\">\n",
       "  <thead>\n",
       "    <tr style=\"text-align: right;\">\n",
       "      <th></th>\n",
       "      <th>ds</th>\n",
       "    </tr>\n",
       "  </thead>\n",
       "  <tbody>\n",
       "    <tr>\n",
       "      <th>895</th>\n",
       "      <td>2020-03-21</td>\n",
       "    </tr>\n",
       "    <tr>\n",
       "      <th>896</th>\n",
       "      <td>2020-03-22</td>\n",
       "    </tr>\n",
       "    <tr>\n",
       "      <th>897</th>\n",
       "      <td>2020-03-23</td>\n",
       "    </tr>\n",
       "    <tr>\n",
       "      <th>898</th>\n",
       "      <td>2020-03-24</td>\n",
       "    </tr>\n",
       "    <tr>\n",
       "      <th>899</th>\n",
       "      <td>2020-03-25</td>\n",
       "    </tr>\n",
       "  </tbody>\n",
       "</table>\n",
       "</div>"
      ],
      "text/plain": [
       "            ds\n",
       "895 2020-03-21\n",
       "896 2020-03-22\n",
       "897 2020-03-23\n",
       "898 2020-03-24\n",
       "899 2020-03-25"
      ]
     },
     "execution_count": 9,
     "metadata": {},
     "output_type": "execute_result"
    }
   ],
   "source": [
    "future=m.make_future_dataframe(periods=731)\n",
    "future.tail()"
   ]
  },
  {
   "cell_type": "code",
   "execution_count": 10,
   "metadata": {
    "colab": {
     "base_uri": "https://localhost:8080/",
     "height": 226
    },
    "colab_type": "code",
    "id": "7MuS_qx7sHfj",
    "outputId": "0cd820bd-5b8b-421d-c7c3-3a450f35b5ae"
   },
   "outputs": [
    {
     "data": {
      "text/html": [
       "<div>\n",
       "<style scoped>\n",
       "    .dataframe tbody tr th:only-of-type {\n",
       "        vertical-align: middle;\n",
       "    }\n",
       "\n",
       "    .dataframe tbody tr th {\n",
       "        vertical-align: top;\n",
       "    }\n",
       "\n",
       "    .dataframe thead th {\n",
       "        text-align: right;\n",
       "    }\n",
       "</style>\n",
       "<table border=\"1\" class=\"dataframe\">\n",
       "  <thead>\n",
       "    <tr style=\"text-align: right;\">\n",
       "      <th></th>\n",
       "      <th>ds</th>\n",
       "      <th>trend</th>\n",
       "      <th>yhat_lower</th>\n",
       "      <th>yhat_upper</th>\n",
       "      <th>trend_lower</th>\n",
       "      <th>trend_upper</th>\n",
       "      <th>additive_terms</th>\n",
       "      <th>additive_terms_lower</th>\n",
       "      <th>additive_terms_upper</th>\n",
       "      <th>yearly</th>\n",
       "      <th>yearly_lower</th>\n",
       "      <th>yearly_upper</th>\n",
       "      <th>multiplicative_terms</th>\n",
       "      <th>multiplicative_terms_lower</th>\n",
       "      <th>multiplicative_terms_upper</th>\n",
       "      <th>yhat</th>\n",
       "    </tr>\n",
       "  </thead>\n",
       "  <tbody>\n",
       "    <tr>\n",
       "      <th>895</th>\n",
       "      <td>2020-03-21</td>\n",
       "      <td>1.073971e+08</td>\n",
       "      <td>1.025993e+08</td>\n",
       "      <td>1.293032e+08</td>\n",
       "      <td>1.053857e+08</td>\n",
       "      <td>1.094114e+08</td>\n",
       "      <td>8.218963e+06</td>\n",
       "      <td>8.218963e+06</td>\n",
       "      <td>8.218963e+06</td>\n",
       "      <td>8.218963e+06</td>\n",
       "      <td>8.218963e+06</td>\n",
       "      <td>8.218963e+06</td>\n",
       "      <td>0.0</td>\n",
       "      <td>0.0</td>\n",
       "      <td>0.0</td>\n",
       "      <td>1.156160e+08</td>\n",
       "    </tr>\n",
       "    <tr>\n",
       "      <th>896</th>\n",
       "      <td>2020-03-22</td>\n",
       "      <td>1.074090e+08</td>\n",
       "      <td>1.028520e+08</td>\n",
       "      <td>1.282073e+08</td>\n",
       "      <td>1.053919e+08</td>\n",
       "      <td>1.094281e+08</td>\n",
       "      <td>7.858009e+06</td>\n",
       "      <td>7.858009e+06</td>\n",
       "      <td>7.858009e+06</td>\n",
       "      <td>7.858009e+06</td>\n",
       "      <td>7.858009e+06</td>\n",
       "      <td>7.858009e+06</td>\n",
       "      <td>0.0</td>\n",
       "      <td>0.0</td>\n",
       "      <td>0.0</td>\n",
       "      <td>1.152671e+08</td>\n",
       "    </tr>\n",
       "    <tr>\n",
       "      <th>897</th>\n",
       "      <td>2020-03-23</td>\n",
       "      <td>1.074210e+08</td>\n",
       "      <td>1.011948e+08</td>\n",
       "      <td>1.278184e+08</td>\n",
       "      <td>1.054003e+08</td>\n",
       "      <td>1.094449e+08</td>\n",
       "      <td>7.378279e+06</td>\n",
       "      <td>7.378279e+06</td>\n",
       "      <td>7.378279e+06</td>\n",
       "      <td>7.378279e+06</td>\n",
       "      <td>7.378279e+06</td>\n",
       "      <td>7.378279e+06</td>\n",
       "      <td>0.0</td>\n",
       "      <td>0.0</td>\n",
       "      <td>0.0</td>\n",
       "      <td>1.147993e+08</td>\n",
       "    </tr>\n",
       "    <tr>\n",
       "      <th>898</th>\n",
       "      <td>2020-03-24</td>\n",
       "      <td>1.074330e+08</td>\n",
       "      <td>1.010897e+08</td>\n",
       "      <td>1.261020e+08</td>\n",
       "      <td>1.054089e+08</td>\n",
       "      <td>1.094618e+08</td>\n",
       "      <td>6.792962e+06</td>\n",
       "      <td>6.792962e+06</td>\n",
       "      <td>6.792962e+06</td>\n",
       "      <td>6.792962e+06</td>\n",
       "      <td>6.792962e+06</td>\n",
       "      <td>6.792962e+06</td>\n",
       "      <td>0.0</td>\n",
       "      <td>0.0</td>\n",
       "      <td>0.0</td>\n",
       "      <td>1.142260e+08</td>\n",
       "    </tr>\n",
       "    <tr>\n",
       "      <th>899</th>\n",
       "      <td>2020-03-25</td>\n",
       "      <td>1.074450e+08</td>\n",
       "      <td>1.010407e+08</td>\n",
       "      <td>1.275219e+08</td>\n",
       "      <td>1.054180e+08</td>\n",
       "      <td>1.094787e+08</td>\n",
       "      <td>6.118197e+06</td>\n",
       "      <td>6.118197e+06</td>\n",
       "      <td>6.118197e+06</td>\n",
       "      <td>6.118197e+06</td>\n",
       "      <td>6.118197e+06</td>\n",
       "      <td>6.118197e+06</td>\n",
       "      <td>0.0</td>\n",
       "      <td>0.0</td>\n",
       "      <td>0.0</td>\n",
       "      <td>1.135632e+08</td>\n",
       "    </tr>\n",
       "  </tbody>\n",
       "</table>\n",
       "</div>"
      ],
      "text/plain": [
       "            ds         trend    yhat_lower    yhat_upper   trend_lower  \\\n",
       "895 2020-03-21  1.073971e+08  1.025993e+08  1.293032e+08  1.053857e+08   \n",
       "896 2020-03-22  1.074090e+08  1.028520e+08  1.282073e+08  1.053919e+08   \n",
       "897 2020-03-23  1.074210e+08  1.011948e+08  1.278184e+08  1.054003e+08   \n",
       "898 2020-03-24  1.074330e+08  1.010897e+08  1.261020e+08  1.054089e+08   \n",
       "899 2020-03-25  1.074450e+08  1.010407e+08  1.275219e+08  1.054180e+08   \n",
       "\n",
       "      trend_upper  additive_terms  additive_terms_lower  additive_terms_upper  \\\n",
       "895  1.094114e+08    8.218963e+06          8.218963e+06          8.218963e+06   \n",
       "896  1.094281e+08    7.858009e+06          7.858009e+06          7.858009e+06   \n",
       "897  1.094449e+08    7.378279e+06          7.378279e+06          7.378279e+06   \n",
       "898  1.094618e+08    6.792962e+06          6.792962e+06          6.792962e+06   \n",
       "899  1.094787e+08    6.118197e+06          6.118197e+06          6.118197e+06   \n",
       "\n",
       "           yearly  yearly_lower  yearly_upper  multiplicative_terms  \\\n",
       "895  8.218963e+06  8.218963e+06  8.218963e+06                   0.0   \n",
       "896  7.858009e+06  7.858009e+06  7.858009e+06                   0.0   \n",
       "897  7.378279e+06  7.378279e+06  7.378279e+06                   0.0   \n",
       "898  6.792962e+06  6.792962e+06  6.792962e+06                   0.0   \n",
       "899  6.118197e+06  6.118197e+06  6.118197e+06                   0.0   \n",
       "\n",
       "     multiplicative_terms_lower  multiplicative_terms_upper          yhat  \n",
       "895                         0.0                         0.0  1.156160e+08  \n",
       "896                         0.0                         0.0  1.152671e+08  \n",
       "897                         0.0                         0.0  1.147993e+08  \n",
       "898                         0.0                         0.0  1.142260e+08  \n",
       "899                         0.0                         0.0  1.135632e+08  "
      ]
     },
     "execution_count": 10,
     "metadata": {},
     "output_type": "execute_result"
    }
   ],
   "source": [
    "forecast = m.predict(future)\n",
    "forecast.tail()"
   ]
  },
  {
   "cell_type": "code",
   "execution_count": 11,
   "metadata": {
    "colab": {
     "base_uri": "https://localhost:8080/",
     "height": 441
    },
    "colab_type": "code",
    "id": "sJVRmuXRsYxa",
    "outputId": "373fbc3c-b3fb-4d52-c315-4116fec9005f"
   },
   "outputs": [
    {
     "data": {
      "image/png": "[encoded data removed]",
      "text/plain": [
       "<Figure size 720x432 with 1 Axes>"
      ]
     },
     "metadata": {},
     "output_type": "display_data"
    }
   ],
   "source": [
    "fig1 = m.plot(forecast)"
   ]
  },
  {
   "cell_type": "code",
   "execution_count": 12,
   "metadata": {
    "colab": {
     "base_uri": "https://localhost:8080/",
     "height": 441
    },
    "colab_type": "code",
    "id": "eiUvZZz3sl1L",
    "outputId": "ad4ce519-5f80-4102-dfe4-9a807170549c"
   },
   "outputs": [
    {
     "data": {
      "image/png": "[encoded data removed]",
      "text/plain": [
       "<Figure size 648x432 with 2 Axes>"
      ]
     },
     "metadata": {},
     "output_type": "display_data"
    }
   ],
   "source": [
    "fig2 = m.plot_components(forecast)"
   ]
  },
  {
   "cell_type": "markdown",
   "metadata": {
    "colab": {},
    "colab_type": "code",
    "id": "9O9n0DIZupyQ"
   },
   "source": [
    "Do time series cross-validation, with these parameters: horizon='90 days', period='45 days', initial='730 days'\n",
    "Plot the cross-validation Mean Absolute Percentage Error: metric='mape'"
   ]
  },
  {
   "cell_type": "code",
   "execution_count": 14,
   "metadata": {
    "colab": {
     "base_uri": "https://localhost:8080/",
     "height": 363
    },
    "colab_type": "code",
    "id": "PzXgbzX-uz5d",
    "outputId": "91db3c12-569f-4929-a9f9-0cd9274b8bb2"
   },
   "outputs": [
    {
     "name": "stderr",
     "output_type": "stream",
     "text": [
      "INFO:fbprophet:Making 8 forecasts with cutoffs between 2017-02-13 00:00:00 and 2017-12-25 00:00:00\n",
      "C:\\Users\\Kevona Jean\\myCODE\\lib\\site-packages\\pystan\\misc.py:399: FutureWarning: Conversion of the second argument of issubdtype from `float` to `np.floating` is deprecated. In future, it will be treated as `np.float64 == np.dtype(float).type`.\n",
      "  elif np.issubdtype(np.asarray(v).dtype, float):\n"
     ]
    }
   ],
   "source": [
    "from fbprophet.diagnostics import cross_validation\n",
    "df_cv = cross_validation(m, initial='730 days', \n",
    "                         horizon='90 days', period='45 days')"
   ]
  },
  {
   "cell_type": "code",
   "execution_count": 15,
   "metadata": {
    "scrolled": true
   },
   "outputs": [
    {
     "data": {
      "text/html": [
       "<div>\n",
       "<style scoped>\n",
       "    .dataframe tbody tr th:only-of-type {\n",
       "        vertical-align: middle;\n",
       "    }\n",
       "\n",
       "    .dataframe tbody tr th {\n",
       "        vertical-align: top;\n",
       "    }\n",
       "\n",
       "    .dataframe thead th {\n",
       "        text-align: right;\n",
       "    }\n",
       "</style>\n",
       "<table border=\"1\" class=\"dataframe\">\n",
       "  <thead>\n",
       "    <tr style=\"text-align: right;\">\n",
       "      <th></th>\n",
       "      <th>horizon</th>\n",
       "      <th>mse</th>\n",
       "      <th>rmse</th>\n",
       "      <th>mae</th>\n",
       "      <th>mape</th>\n",
       "      <th>coverage</th>\n",
       "    </tr>\n",
       "  </thead>\n",
       "  <tbody>\n",
       "    <tr>\n",
       "      <th>0</th>\n",
       "      <td>9 days</td>\n",
       "      <td>1.161294e+14</td>\n",
       "      <td>1.077633e+07</td>\n",
       "      <td>9.070125e+06</td>\n",
       "      <td>0.103101</td>\n",
       "      <td>0.5</td>\n",
       "    </tr>\n",
       "    <tr>\n",
       "      <th>1</th>\n",
       "      <td>10 days</td>\n",
       "      <td>1.156714e+14</td>\n",
       "      <td>1.075506e+07</td>\n",
       "      <td>8.973781e+06</td>\n",
       "      <td>0.101886</td>\n",
       "      <td>0.5</td>\n",
       "    </tr>\n",
       "    <tr>\n",
       "      <th>2</th>\n",
       "      <td>11 days</td>\n",
       "      <td>9.013364e+13</td>\n",
       "      <td>9.493874e+06</td>\n",
       "      <td>7.999991e+06</td>\n",
       "      <td>0.089253</td>\n",
       "      <td>0.6</td>\n",
       "    </tr>\n",
       "    <tr>\n",
       "      <th>3</th>\n",
       "      <td>12 days</td>\n",
       "      <td>9.562634e+13</td>\n",
       "      <td>9.778872e+06</td>\n",
       "      <td>8.709881e+06</td>\n",
       "      <td>0.099856</td>\n",
       "      <td>0.6</td>\n",
       "    </tr>\n",
       "    <tr>\n",
       "      <th>4</th>\n",
       "      <td>13 days</td>\n",
       "      <td>9.585556e+13</td>\n",
       "      <td>9.790585e+06</td>\n",
       "      <td>8.896907e+06</td>\n",
       "      <td>0.098309</td>\n",
       "      <td>0.6</td>\n",
       "    </tr>\n",
       "  </tbody>\n",
       "</table>\n",
       "</div>"
      ],
      "text/plain": [
       "  horizon           mse          rmse           mae      mape  coverage\n",
       "0  9 days  1.161294e+14  1.077633e+07  9.070125e+06  0.103101       0.5\n",
       "1 10 days  1.156714e+14  1.075506e+07  8.973781e+06  0.101886       0.5\n",
       "2 11 days  9.013364e+13  9.493874e+06  7.999991e+06  0.089253       0.6\n",
       "3 12 days  9.562634e+13  9.778872e+06  8.709881e+06  0.099856       0.6\n",
       "4 13 days  9.585556e+13  9.790585e+06  8.896907e+06  0.098309       0.6"
      ]
     },
     "execution_count": 15,
     "metadata": {},
     "output_type": "execute_result"
    }
   ],
   "source": [
    "from fbprophet.diagnostics import performance_metrics\n",
    "performance_metrics(df_cv).head()"
   ]
  },
  {
   "cell_type": "code",
   "execution_count": 16,
   "metadata": {},
   "outputs": [
    {
     "data": {
      "image/png": "[encoded data removed]",
      "text/plain": [
       "<Figure size 720x432 with 1 Axes>"
      ]
     },
     "metadata": {},
     "output_type": "display_data"
    }
   ],
   "source": [
    "from fbprophet.plot import plot_cross_validation_metric\n",
    "fig = plot_cross_validation_metric(df_cv, metric='mape')"
   ]
  },
  {
   "cell_type": "markdown",
   "metadata": {
    "colab_type": "text",
    "id": "pRMZspPrnXXf"
   },
   "source": [
    "### Stretch Goal\n",
    "- Adjust your forecasts with Prophet's options for changepoints, holidays, and fourier order. Improve the cross-validation MAPE."
   ]
  },
  {
   "cell_type": "code",
   "execution_count": 0,
   "metadata": {
    "colab": {},
    "colab_type": "code",
    "id": "o63ZdOdbnXXi"
   },
   "outputs": [],
   "source": []
  },
  {
   "cell_type": "markdown",
   "metadata": {
    "colab_type": "text",
    "id": "kaMBPzRBnXXm"
   },
   "source": [
    "## Part 2. Predict NYC apartment rent 🏠💸\n",
    "\n",
    "For part 1 of your challenge, you'll use a real-world data with rent prices for a subset of apartments in New York City!\n",
    "\n",
    "Run this code cell to load the dataset: "
   ]
  },
  {
   "cell_type": "code",
   "execution_count": 17,
   "metadata": {
    "colab": {},
    "colab_type": "code",
    "id": "Sinka6dVnXXo"
   },
   "outputs": [],
   "source": [
    "import pandas as pd\n",
    "rent_url = 'https://drive.google.com/uc?export=download&id=1lVVPmh-WYGb_0Gs_lOv22i02-150qDdZ'\n",
    "rent = pd.read_csv(rent_url)\n",
    "assert rent.shape == (48295, 7)"
   ]
  },
  {
   "cell_type": "markdown",
   "metadata": {
    "colab_type": "text",
    "id": "4wjXA5SgnXXr"
   },
   "source": [
    "### Required\n",
    "1. Begin with baselines for regression. Calculate the mean absolute error and $R^2$ score for a mean baseline. _(You can use the whole dataset, or a test set, either way is okay here!)_\n",
    "2. Do train/test split. Use data from April & May 2016 to train. Use data from June 2016 to test.\n",
    "3. Choose any two features.\n",
    "4. Use scikit-learn to fit a Linear Regression model on the train data.\n",
    "5. Apply the model to predict rent prices for the test data.\n",
    "6. Get regression metrics MAE and $R^2$ for the test data.\n",
    "7. Get the model's coefficients and intercept.\n",
    "\n",
    "### Stretch Goals\n",
    "- Try at least 3 different feature combinations. (You don't have to use two features, you can choose any number of features.)\n",
    "- Get regression metrics RMSE, MAE, and $R^2$, for both the train and test data."
   ]
  },
  {
   "cell_type": "markdown",
   "metadata": {
    "colab": {},
    "colab_type": "code",
    "id": "s_7feDv-nXXt"
   },
   "source": [
    "Part 1: Begin with baselines for regression. Calculate the mean absolute error and R2 score for a mean baseline. (You can use the whole dataset, or a test set, either way is okay here!)"
   ]
  },
  {
   "cell_type": "code",
   "execution_count": 32,
   "metadata": {},
   "outputs": [
    {
     "data": {
      "text/html": [
       "<div>\n",
       "<style scoped>\n",
       "    .dataframe tbody tr th:only-of-type {\n",
       "        vertical-align: middle;\n",
       "    }\n",
       "\n",
       "    .dataframe tbody tr th {\n",
       "        vertical-align: top;\n",
       "    }\n",
       "\n",
       "    .dataframe thead th {\n",
       "        text-align: right;\n",
       "    }\n",
       "</style>\n",
       "<table border=\"1\" class=\"dataframe\">\n",
       "  <thead>\n",
       "    <tr style=\"text-align: right;\">\n",
       "      <th></th>\n",
       "      <th>year</th>\n",
       "      <th>month</th>\n",
       "      <th>bedrooms</th>\n",
       "      <th>bathrooms</th>\n",
       "      <th>latitude</th>\n",
       "      <th>longitude</th>\n",
       "      <th>price</th>\n",
       "      <th>Mean Baseline</th>\n",
       "      <th>Error</th>\n",
       "      <th>Absolute Error</th>\n",
       "    </tr>\n",
       "  </thead>\n",
       "  <tbody>\n",
       "    <tr>\n",
       "      <th>0</th>\n",
       "      <td>2016</td>\n",
       "      <td>6</td>\n",
       "      <td>3</td>\n",
       "      <td>1.5</td>\n",
       "      <td>40.7145</td>\n",
       "      <td>-73.9425</td>\n",
       "      <td>3000</td>\n",
       "      <td>3438.052034</td>\n",
       "      <td>438.052034</td>\n",
       "      <td>438.052034</td>\n",
       "    </tr>\n",
       "    <tr>\n",
       "      <th>1</th>\n",
       "      <td>2016</td>\n",
       "      <td>6</td>\n",
       "      <td>2</td>\n",
       "      <td>1.0</td>\n",
       "      <td>40.7947</td>\n",
       "      <td>-73.9667</td>\n",
       "      <td>5465</td>\n",
       "      <td>3438.052034</td>\n",
       "      <td>-2026.947966</td>\n",
       "      <td>2026.947966</td>\n",
       "    </tr>\n",
       "    <tr>\n",
       "      <th>2</th>\n",
       "      <td>2016</td>\n",
       "      <td>4</td>\n",
       "      <td>1</td>\n",
       "      <td>1.0</td>\n",
       "      <td>40.7388</td>\n",
       "      <td>-74.0018</td>\n",
       "      <td>2850</td>\n",
       "      <td>3438.052034</td>\n",
       "      <td>588.052034</td>\n",
       "      <td>588.052034</td>\n",
       "    </tr>\n",
       "    <tr>\n",
       "      <th>3</th>\n",
       "      <td>2016</td>\n",
       "      <td>4</td>\n",
       "      <td>1</td>\n",
       "      <td>1.0</td>\n",
       "      <td>40.7539</td>\n",
       "      <td>-73.9677</td>\n",
       "      <td>3275</td>\n",
       "      <td>3438.052034</td>\n",
       "      <td>163.052034</td>\n",
       "      <td>163.052034</td>\n",
       "    </tr>\n",
       "    <tr>\n",
       "      <th>4</th>\n",
       "      <td>2016</td>\n",
       "      <td>4</td>\n",
       "      <td>4</td>\n",
       "      <td>1.0</td>\n",
       "      <td>40.8241</td>\n",
       "      <td>-73.9493</td>\n",
       "      <td>3350</td>\n",
       "      <td>3438.052034</td>\n",
       "      <td>88.052034</td>\n",
       "      <td>88.052034</td>\n",
       "    </tr>\n",
       "  </tbody>\n",
       "</table>\n",
       "</div>"
      ],
      "text/plain": [
       "   year  month  bedrooms  bathrooms  latitude  longitude  price  \\\n",
       "0  2016      6         3        1.5   40.7145   -73.9425   3000   \n",
       "1  2016      6         2        1.0   40.7947   -73.9667   5465   \n",
       "2  2016      4         1        1.0   40.7388   -74.0018   2850   \n",
       "3  2016      4         1        1.0   40.7539   -73.9677   3275   \n",
       "4  2016      4         4        1.0   40.8241   -73.9493   3350   \n",
       "\n",
       "   Mean Baseline        Error  Absolute Error  \n",
       "0    3438.052034   438.052034      438.052034  \n",
       "1    3438.052034 -2026.947966     2026.947966  \n",
       "2    3438.052034   588.052034      588.052034  \n",
       "3    3438.052034   163.052034      163.052034  \n",
       "4    3438.052034    88.052034       88.052034  "
      ]
     },
     "execution_count": 32,
     "metadata": {},
     "output_type": "execute_result"
    }
   ],
   "source": [
    "from sklearn.linear_model import LinearRegression\n",
    "rent.head()"
   ]
  },
  {
   "cell_type": "code",
   "execution_count": 37,
   "metadata": {},
   "outputs": [
    {
     "data": {
      "text/html": [
       "<div>\n",
       "<style scoped>\n",
       "    .dataframe tbody tr th:only-of-type {\n",
       "        vertical-align: middle;\n",
       "    }\n",
       "\n",
       "    .dataframe tbody tr th {\n",
       "        vertical-align: top;\n",
       "    }\n",
       "\n",
       "    .dataframe thead th {\n",
       "        text-align: right;\n",
       "    }\n",
       "</style>\n",
       "<table border=\"1\" class=\"dataframe\">\n",
       "  <thead>\n",
       "    <tr style=\"text-align: right;\">\n",
       "      <th></th>\n",
       "      <th>year</th>\n",
       "      <th>month</th>\n",
       "      <th>bedrooms</th>\n",
       "      <th>bathrooms</th>\n",
       "      <th>latitude</th>\n",
       "      <th>longitude</th>\n",
       "      <th>price</th>\n",
       "      <th>Mean Baseline</th>\n",
       "      <th>Error</th>\n",
       "      <th>Absolute Error</th>\n",
       "    </tr>\n",
       "  </thead>\n",
       "  <tbody>\n",
       "    <tr>\n",
       "      <th>count</th>\n",
       "      <td>48295.0</td>\n",
       "      <td>48295.000000</td>\n",
       "      <td>48295.000000</td>\n",
       "      <td>48295.000000</td>\n",
       "      <td>48295.000000</td>\n",
       "      <td>48295.000000</td>\n",
       "      <td>48295.000000</td>\n",
       "      <td>4.829500e+04</td>\n",
       "      <td>4.829500e+04</td>\n",
       "      <td>48295.000000</td>\n",
       "    </tr>\n",
       "    <tr>\n",
       "      <th>mean</th>\n",
       "      <td>2016.0</td>\n",
       "      <td>5.014950</td>\n",
       "      <td>1.508417</td>\n",
       "      <td>1.177927</td>\n",
       "      <td>40.750784</td>\n",
       "      <td>-73.972366</td>\n",
       "      <td>3438.052034</td>\n",
       "      <td>3.438052e+03</td>\n",
       "      <td>4.531391e-12</td>\n",
       "      <td>1055.785777</td>\n",
       "    </tr>\n",
       "    <tr>\n",
       "      <th>std</th>\n",
       "      <td>0.0</td>\n",
       "      <td>0.824537</td>\n",
       "      <td>1.091198</td>\n",
       "      <td>0.423621</td>\n",
       "      <td>0.039555</td>\n",
       "      <td>0.029563</td>\n",
       "      <td>1401.003716</td>\n",
       "      <td>3.129149e-09</td>\n",
       "      <td>1.401004e+03</td>\n",
       "      <td>920.926015</td>\n",
       "    </tr>\n",
       "    <tr>\n",
       "      <th>min</th>\n",
       "      <td>2016.0</td>\n",
       "      <td>4.000000</td>\n",
       "      <td>0.000000</td>\n",
       "      <td>0.000000</td>\n",
       "      <td>40.571200</td>\n",
       "      <td>-74.094000</td>\n",
       "      <td>1025.000000</td>\n",
       "      <td>3.438052e+03</td>\n",
       "      <td>-6.560948e+03</td>\n",
       "      <td>0.052034</td>\n",
       "    </tr>\n",
       "    <tr>\n",
       "      <th>25%</th>\n",
       "      <td>2016.0</td>\n",
       "      <td>4.000000</td>\n",
       "      <td>1.000000</td>\n",
       "      <td>1.000000</td>\n",
       "      <td>40.728100</td>\n",
       "      <td>-73.991700</td>\n",
       "      <td>2495.000000</td>\n",
       "      <td>3.438052e+03</td>\n",
       "      <td>-5.619480e+02</td>\n",
       "      <td>438.052034</td>\n",
       "    </tr>\n",
       "    <tr>\n",
       "      <th>50%</th>\n",
       "      <td>2016.0</td>\n",
       "      <td>5.000000</td>\n",
       "      <td>1.000000</td>\n",
       "      <td>1.000000</td>\n",
       "      <td>40.751600</td>\n",
       "      <td>-73.977900</td>\n",
       "      <td>3100.000000</td>\n",
       "      <td>3.438052e+03</td>\n",
       "      <td>3.380520e+02</td>\n",
       "      <td>861.947966</td>\n",
       "    </tr>\n",
       "    <tr>\n",
       "      <th>75%</th>\n",
       "      <td>2016.0</td>\n",
       "      <td>6.000000</td>\n",
       "      <td>2.000000</td>\n",
       "      <td>1.000000</td>\n",
       "      <td>40.774000</td>\n",
       "      <td>-73.954700</td>\n",
       "      <td>4000.000000</td>\n",
       "      <td>3.438052e+03</td>\n",
       "      <td>9.430520e+02</td>\n",
       "      <td>1438.052034</td>\n",
       "    </tr>\n",
       "    <tr>\n",
       "      <th>max</th>\n",
       "      <td>2016.0</td>\n",
       "      <td>6.000000</td>\n",
       "      <td>6.000000</td>\n",
       "      <td>4.000000</td>\n",
       "      <td>40.915400</td>\n",
       "      <td>-73.700100</td>\n",
       "      <td>9999.000000</td>\n",
       "      <td>3.438052e+03</td>\n",
       "      <td>2.413052e+03</td>\n",
       "      <td>6560.947966</td>\n",
       "    </tr>\n",
       "  </tbody>\n",
       "</table>\n",
       "</div>"
      ],
      "text/plain": [
       "          year         month      bedrooms     bathrooms      latitude  \\\n",
       "count  48295.0  48295.000000  48295.000000  48295.000000  48295.000000   \n",
       "mean    2016.0      5.014950      1.508417      1.177927     40.750784   \n",
       "std        0.0      0.824537      1.091198      0.423621      0.039555   \n",
       "min     2016.0      4.000000      0.000000      0.000000     40.571200   \n",
       "25%     2016.0      4.000000      1.000000      1.000000     40.728100   \n",
       "50%     2016.0      5.000000      1.000000      1.000000     40.751600   \n",
       "75%     2016.0      6.000000      2.000000      1.000000     40.774000   \n",
       "max     2016.0      6.000000      6.000000      4.000000     40.915400   \n",
       "\n",
       "          longitude         price  Mean Baseline         Error  Absolute Error  \n",
       "count  48295.000000  48295.000000   4.829500e+04  4.829500e+04    48295.000000  \n",
       "mean     -73.972366   3438.052034   3.438052e+03  4.531391e-12     1055.785777  \n",
       "std        0.029563   1401.003716   3.129149e-09  1.401004e+03      920.926015  \n",
       "min      -74.094000   1025.000000   3.438052e+03 -6.560948e+03        0.052034  \n",
       "25%      -73.991700   2495.000000   3.438052e+03 -5.619480e+02      438.052034  \n",
       "50%      -73.977900   3100.000000   3.438052e+03  3.380520e+02      861.947966  \n",
       "75%      -73.954700   4000.000000   3.438052e+03  9.430520e+02     1438.052034  \n",
       "max      -73.700100   9999.000000   3.438052e+03  2.413052e+03     6560.947966  "
      ]
     },
     "execution_count": 37,
     "metadata": {},
     "output_type": "execute_result"
    }
   ],
   "source": [
    "target='price'\n",
    "rent['Mean Baseline'] = rent[target].mean()\n",
    "error = rent['Mean Baseline'] - rent[target]\n",
    "rent['Absolute Error'] = error.abs()\n",
    "\n",
    "rent.describe()"
   ]
  },
  {
   "cell_type": "code",
   "execution_count": 22,
   "metadata": {},
   "outputs": [
    {
     "data": {
      "text/plain": [
       "1055.7857771080928"
      ]
     },
     "execution_count": 22,
     "metadata": {},
     "output_type": "execute_result"
    }
   ],
   "source": [
    "from sklearn.metrics import mean_absolute_error\n",
    "mean_absolute_error(y_true=rent['price'], \n",
    "                    y_pred=rent['Mean Baseline'])"
   ]
  },
  {
   "cell_type": "code",
   "execution_count": 29,
   "metadata": {},
   "outputs": [
    {
     "data": {
      "text/plain": [
       "0.0"
      ]
     },
     "execution_count": 29,
     "metadata": {},
     "output_type": "execute_result"
    }
   ],
   "source": [
    "from sklearn.metrics import r2_score\n",
    "r2_score(y_true=rent['price'], \n",
    "         y_pred=rent['Mean Baseline'])"
   ]
  },
  {
   "cell_type": "markdown",
   "metadata": {},
   "source": [
    "Part 2. Do train/test split. Use data from April & May 2016 to train. Use data from June 2016 to test."
   ]
  },
  {
   "cell_type": "code",
   "execution_count": 33,
   "metadata": {},
   "outputs": [],
   "source": [
    "features = ['bedrooms', 'bathrooms']\n",
    "target = 'price'\n",
    "\n",
    "X=rent[features]\n",
    "y= rent[target]"
   ]
  },
  {
   "cell_type": "code",
   "execution_count": 39,
   "metadata": {},
   "outputs": [
    {
     "data": {
      "text/plain": [
       "((31512, 2), (31512,), (16783, 2), (16783,))"
      ]
     },
     "execution_count": 39,
     "metadata": {},
     "output_type": "execute_result"
    }
   ],
   "source": [
    "train = rent.query('month <=5')\n",
    "test = rent.query('month > 5')\n",
    "X_train = train[features]\n",
    "y_train = train[target]\n",
    "X_test = test[features]\n",
    "y_test = test[target]\n",
    "\n",
    "X_train.shape, y_train.shape, X_test.shape, y_test.shape"
   ]
  },
  {
   "cell_type": "markdown",
   "metadata": {},
   "source": [
    "Part3-4.Choose any two features.\n",
    "Use scikit-learn to fit a Linear Regression model on the train data."
   ]
  },
  {
   "cell_type": "code",
   "execution_count": 40,
   "metadata": {},
   "outputs": [
    {
     "data": {
      "text/plain": [
       "LinearRegression(copy_X=True, fit_intercept=True, n_jobs=1, normalize=False)"
      ]
     },
     "execution_count": 40,
     "metadata": {},
     "output_type": "execute_result"
    }
   ],
   "source": [
    "model=LinearRegression()\n",
    "model.fit(X,y)"
   ]
  },
  {
   "cell_type": "markdown",
   "metadata": {},
   "source": [
    "Part 5. Apply the model to predict rent prices for the test data."
   ]
  },
  {
   "cell_type": "code",
   "execution_count": 42,
   "metadata": {},
   "outputs": [],
   "source": [
    "y_pred = model.predict(X)"
   ]
  },
  {
   "cell_type": "markdown",
   "metadata": {},
   "source": [
    "Part 6. Get regression metrics MAE and R2 for the test data.\n"
   ]
  },
  {
   "cell_type": "code",
   "execution_count": 43,
   "metadata": {},
   "outputs": [
    {
     "data": {
      "text/plain": [
       "743.7790226813779"
      ]
     },
     "execution_count": 43,
     "metadata": {},
     "output_type": "execute_result"
    }
   ],
   "source": [
    "mean_absolute_error(y, y_pred)"
   ]
  },
  {
   "cell_type": "code",
   "execution_count": 44,
   "metadata": {},
   "outputs": [
    {
     "data": {
      "text/plain": [
       "0.47485657310145557"
      ]
     },
     "execution_count": 44,
     "metadata": {},
     "output_type": "execute_result"
    }
   ],
   "source": [
    "r2_score(y, y_pred)"
   ]
  },
  {
   "cell_type": "markdown",
   "metadata": {},
   "source": [
    "Part 7. Get the model's coefficients and intercept."
   ]
  },
  {
   "cell_type": "code",
   "execution_count": 45,
   "metadata": {},
   "outputs": [
    {
     "data": {
      "text/plain": [
       "(array([ 413.80713679, 1545.63477548]), 993.2128747222005)"
      ]
     },
     "execution_count": 45,
     "metadata": {},
     "output_type": "execute_result"
    }
   ],
   "source": [
    "model.coef_, model.intercept_"
   ]
  }
 ],
 "metadata": {
  "colab": {
   "collapsed_sections": [],
   "name": "DS_Sprint_Challenge_6_Regression_1.ipynb",
   "provenance": [],
   "version": "0.3.2"
  },
  "kernelspec": {
   "display_name": "Python 3",
   "language": "python",
   "name": "python3"
  },
  "language_info": {
   "codemirror_mode": {
    "name": "ipython",
    "version": 3
   },
   "file_extension": ".py",
   "mimetype": "text/x-python",
   "name": "python",
   "nbconvert_exporter": "python",
   "pygments_lexer": "ipython3",
   "version": "3.7.0"
  }
 },
 "nbformat": 4,
 "nbformat_minor": 1
}
